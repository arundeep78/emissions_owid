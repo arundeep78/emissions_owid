{
 "cells": [
  {
   "cell_type": "code",
   "execution_count": 2,
   "id": "0a3222a0",
   "metadata": {},
   "outputs": [],
   "source": [
    "import pandas as pd\n",
    "import owidutils\n",
    "\n",
    "%config IPCompleter.use_jedi=False"
   ]
  },
  {
   "cell_type": "code",
   "execution_count": 3,
   "id": "e3ac92fb",
   "metadata": {},
   "outputs": [],
   "source": [
    "url_local = \"./data/t_emissions_owid.csv\"\n"
   ]
  },
  {
   "cell_type": "code",
   "execution_count": 5,
   "id": "e1f530d6",
   "metadata": {},
   "outputs": [],
   "source": [
    "df = owidutils.get_owid_co2data(url_local,owidutils.replace_countries)\n",
    "df_co2 = df[[\"year\",\"country\",\"co2\"]]\n",
    "df_co2 = df_co2.sort_values([\"year\",\"co2\"],ascending=[False,False]).groupby(\"year\").head(10)\n"
   ]
  },
  {
   "cell_type": "code",
   "execution_count": null,
   "id": "ff22b0ef",
   "metadata": {},
   "outputs": [],
   "source": []
  }
 ],
 "metadata": {
  "kernelspec": {
   "display_name": "Python 3",
   "language": "python",
   "name": "python3"
  },
  "language_info": {
   "codemirror_mode": {
    "name": "ipython",
    "version": 3
   },
   "file_extension": ".py",
   "mimetype": "text/x-python",
   "name": "python",
   "nbconvert_exporter": "python",
   "pygments_lexer": "ipython3",
   "version": "3.7.10"
  }
 },
 "nbformat": 4,
 "nbformat_minor": 5
}
